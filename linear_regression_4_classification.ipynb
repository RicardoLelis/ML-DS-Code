{
  "nbformat": 4,
  "nbformat_minor": 0,
  "metadata": {
    "colab": {
      "name": "linear_regression_4_classification.ipynb",
      "provenance": [],
      "collapsed_sections": [],
      "authorship_tag": "ABX9TyPQzW7nZdyfZF3GTuMXbyQy",
      "include_colab_link": true
    },
    "kernelspec": {
      "name": "python3",
      "display_name": "Python 3"
    },
    "language_info": {
      "name": "python"
    }
  },
  "cells": [
    {
      "cell_type": "markdown",
      "metadata": {
        "id": "view-in-github",
        "colab_type": "text"
      },
      "source": [
        "<a href=\"https://colab.research.google.com/github/RicardoLelis/ML-DS-Code/blob/main/linear_regression_4_classification.ipynb\" target=\"_parent\"><img src=\"https://colab.research.google.com/assets/colab-badge.svg\" alt=\"Open In Colab\"/></a>"
      ]
    },
    {
      "cell_type": "code",
      "execution_count": 1,
      "metadata": {
        "id": "12aY7yATcoob"
      },
      "outputs": [],
      "source": [
        "import tensorflow as tf\n",
        "tf.compat.v1.disable_eager_execution()\n",
        "import numpy as np\n",
        "import matplotlib.pyplot as plt\n",
        "%matplotlib inline"
      ]
    },
    {
      "cell_type": "code",
      "source": [
        "x_label0 = np.random.normal(5, 1, 10)\n",
        "x_label1 = np.random.normal(2, 1, 10)\n",
        "xs = np.append(x_label0, x_label1)\n",
        "\n",
        "labels = [0.] * len(x_label0) + [1.] * len(x_label1)\n",
        "\n",
        "plt.scatter(xs, labels)\n",
        "\n",
        "# Hyperparameters\n",
        "learning_rate = 0.001\n",
        "training_epochs = 1000\n",
        "\n",
        "# Sets up the placeholder nodes for the input/output pairs\n",
        "X = tf.compat.v1.placeholder(\"float\")\n",
        "Y = tf.compat.v1.placeholder(\"float\")\n",
        "\n",
        "# Defines a linear y = w1 * x + w0 model\n",
        "def model(X, w):\n",
        "  return tf.add(tf.multiply(w[1], tf.pow(X, 1)),\n",
        "                tf.multiply(w[0], tf.pow(X, 0)))\n",
        "\n",
        "w = tf.Variable([0., 0.], name=\"parameters\")\n",
        "\n",
        "y_model = model(X, w)\n",
        "\n",
        "cost = tf.reduce_sum(tf.square(Y-y_model))\n",
        "\n",
        "train_op = tf.compat.v1.train.GradientDescentOptimizer(learning_rate).minimize(cost)\n",
        "\n",
        "sess = tf.compat.v1.Session()\n",
        "init = tf.compat.v1.global_variables_initializer()\n",
        "sess.run(init)\n",
        "\n",
        "# Runs the learning operation multiple times\n",
        "for epoch in range(training_epochs):\n",
        "  sess.run(train_op, feed_dict={X: xs, Y: labels})\n",
        "  # Records the cost computed with the current parameters\n",
        "  current_cost = sess.run(cost, feed_dict={X: xs, Y: labels})\n",
        "  if epoch % 100 == 0:\n",
        "    print(epoch, current_cost)\n",
        "\n",
        "w_val = sess.run(w)\n",
        "print('learned parameters:', w_val)\n",
        "\n",
        "sess.close()\n",
        "\n",
        "# Shows the best-fit line\n",
        "all_xs = np.linspace(0, 10, 100)\n",
        "plt.plot(all_xs, all_xs * w_val[1] + w_val[0])\n",
        "plt.show()\n"
      ],
      "metadata": {
        "id": "gjEAloLHcwup",
        "colab": {
          "base_uri": "https://localhost:8080/",
          "height": 461
        },
        "outputId": "f9bef119-6ecf-4775-db30-60bde2ba2288"
      },
      "execution_count": 2,
      "outputs": [
        {
          "output_type": "stream",
          "name": "stdout",
          "text": [
            "0 8.647179\n",
            "100 2.649616\n",
            "200 1.4453382\n",
            "300 1.1988815\n",
            "400 1.1484432\n",
            "500 1.138121\n",
            "600 1.1360086\n",
            "700 1.1355762\n",
            "800 1.1354878\n",
            "900 1.1354698\n",
            "learned parameters: [ 1.3602293  -0.23459339]\n"
          ]
        },
        {
          "output_type": "display_data",
          "data": {
            "text/plain": [
              "<Figure size 432x288 with 1 Axes>"
            ],
            "image/png": "[encoded data removed]"
          },
          "metadata": {
            "needs_background": "light"
          }
        }
      ]
    },
    {
      "cell_type": "code",
      "source": [
        "## Measuring accuracy"
      ],
      "metadata": {
        "id": "xjd9H3AYeEyV"
      },
      "execution_count": 3,
      "outputs": []
    },
    {
      "cell_type": "code",
      "source": [
        "x_label0 = np.random.normal(5, 1, 10)\n",
        "x_label1 = np.random.normal(2, 1, 10)\n",
        "xs = np.append(x_label0, x_label1)\n",
        "\n",
        "labels = [0.] * len(x_label0) + [1.] * len(x_label1)\n",
        "\n",
        "plt.scatter(xs, labels)\n",
        "\n",
        "# Hyperparameters\n",
        "learning_rate = 0.001\n",
        "training_epochs = 1000\n",
        "\n",
        "# Sets up the placeholder nodes for the input/output pairs\n",
        "X = tf.compat.v1.placeholder(\"float\")\n",
        "Y = tf.compat.v1.placeholder(\"float\")\n",
        "\n",
        "# Defines a linear y = w1 * x + w0 model\n",
        "def model(X, w):\n",
        "  return tf.add(tf.multiply(w[1], tf.pow(X, 1)),\n",
        "                tf.multiply(w[0], tf.pow(X, 0)))\n",
        "\n",
        "w = tf.Variable([0., 0.], name=\"parameters\")\n",
        "\n",
        "y_model = model(X, w)\n",
        "\n",
        "cost = tf.reduce_sum(tf.square(Y-y_model))\n",
        "\n",
        "train_op = tf.compat.v1.train.GradientDescentOptimizer(learning_rate).minimize(cost)\n",
        "\n",
        "sess = tf.compat.v1.Session()\n",
        "init = tf.compat.v1.global_variables_initializer()\n",
        "sess.run(init)\n",
        "\n",
        "# Runs the learning operation multiple times\n",
        "for epoch in range(training_epochs):\n",
        "  sess.run(train_op, feed_dict={X: xs, Y: labels})\n",
        "  # Records the cost computed with the current parameters\n",
        "  current_cost = sess.run(cost, feed_dict={X: xs, Y: labels})\n",
        "  if epoch % 100 == 0:\n",
        "    print(epoch, current_cost)\n",
        "\n",
        "w_val = sess.run(w)\n",
        "print('learned parameters:', w_val)\n",
        "\n",
        "# Measuring accuracy:\n",
        "correct_prediction = tf.equal(Y, tf.compat.v1.to_float(tf.greater(y_model, 0.5)))\n",
        "accuracy = tf.reduce_mean(tf.compat.v1.to_float(correct_prediction))\n",
        "\n",
        "print('Accuracy:', sess.run(accuracy, feed_dict={X: xs, Y: labels}))\n",
        "\n",
        "sess.close()\n",
        "\n",
        "# Shows the best-fit line\n",
        "all_xs = np.linspace(0, 10, 100)\n",
        "plt.plot(all_xs, all_xs * w_val[1] + w_val[0])\n",
        "plt.show()"
      ],
      "metadata": {
        "colab": {
          "base_uri": "https://localhost:8080/",
          "height": 553
        },
        "id": "D-wPL8_9P_ZA",
        "outputId": "3d6e3391-fde7-4c5a-e69d-f96b725cbe54"
      },
      "execution_count": 8,
      "outputs": [
        {
          "output_type": "stream",
          "name": "stdout",
          "text": [
            "0 8.20907\n",
            "100 3.5713494\n",
            "200 2.1599095\n",
            "300 1.7084835\n",
            "400 1.5641031\n",
            "500 1.5179255\n",
            "600 1.5031564\n",
            "700 1.4984329\n",
            "800 1.496922\n",
            "900 1.4964387\n",
            "learned parameters: [ 1.4918636  -0.27223492]\n",
            "WARNING:tensorflow:From /usr/local/lib/python3.7/dist-packages/tensorflow/python/util/dispatch.py:1082: to_float (from tensorflow.python.ops.math_ops) is deprecated and will be removed in a future version.\n",
            "Instructions for updating:\n",
            "Use `tf.cast` instead.\n",
            "Accuracy: 0.95\n"
          ]
        },
        {
          "output_type": "display_data",
          "data": {
            "text/plain": [
              "<Figure size 432x288 with 1 Axes>"
            ],
            "image/png": "[encoded data removed]"
          },
          "metadata": {
            "needs_background": "light"
          }
        }
      ]
    }
  ]
}